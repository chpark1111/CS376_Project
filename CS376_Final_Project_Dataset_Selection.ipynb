{
 "cells": [
  {
   "cell_type": "markdown",
   "metadata": {
    "id": "AimNDtZ1giHc"
   },
   "source": [
    "## 1. Connect to google drive"
   ]
  },
  {
   "cell_type": "code",
   "execution_count": 1,
   "metadata": {
    "colab": {
     "base_uri": "https://localhost:8080/"
    },
    "id": "5FGAmydNgt0_",
    "outputId": "71682af6-7fa2-4392-cf7a-4e12dfa78b6b"
   },
   "outputs": [],
   "source": [
    "# from google.colab import drive\n",
    "\n",
    "# drive.mount('/gdrive')\n",
    "\n",
    "# filepath = '/gdrive/My Drive/path'"
   ]
  },
  {
   "cell_type": "code",
   "execution_count": 2,
   "metadata": {
    "id": "SMn-QEZdiM3i"
   },
   "outputs": [],
   "source": [
    "# zip_path = f\"{filepath}/data.zip\"\n",
    "# !cp \"{zip_path}\" .\n",
    "# !unzip -q data.zip -d ./data\n",
    "# !rm data.zip"
   ]
  },
  {
   "cell_type": "code",
   "execution_count": 3,
   "metadata": {
    "colab": {
     "base_uri": "https://localhost:8080/"
    },
    "id": "pf5bV0auRdV9",
    "outputId": "6734d8d3-9320-438e-faee-bf9b8a7d26e3"
   },
   "outputs": [],
   "source": [
    "import os\n",
    "import torch\n",
    "import torch.optim as optim\n",
    "import torch.nn as nn\n",
    "import torch.nn.functional as F\n",
    "import pandas as pd\n",
    "import numpy as np\n",
    "import urllib\n",
    "import glob\n",
    "import math\n",
    "import matplotlib.pyplot as plt\n",
    "import random\n",
    "import torchvision\n",
    "import torchvision.transforms as transforms\n",
    "import easydict\n",
    "import itertools\n",
    "import albumentations\n",
    "import albumentations.pytorch\n",
    "import time\n",
    "import cv2\n",
    "import itertools\n",
    "\n",
    "from PIL import Image\n",
    "from torch.utils.tensorboard import SummaryWriter\n",
    "# !pip install -U tensorboardcolab\n",
    "# from tensorboardcolab import TensorBoardColab\n",
    "\n",
    "random_seed = 777\n",
    "torch.manual_seed(random_seed)\n",
    "torch.cuda.manual_seed(random_seed)\n",
    "np.random.seed(random_seed)\n",
    "random.seed(random_seed)\n",
    "\n",
    "# !rm /etc/localtime\n",
    "# !ln -s /usr/share/zoneinfo/Asia/Seoul /etc/localtime"
   ]
  },
  {
   "cell_type": "markdown",
   "metadata": {
    "id": "GlgF8QPeEEjG"
   },
   "source": [
    "# Setting Hyperparameters"
   ]
  },
  {
   "cell_type": "code",
   "execution_count": 4,
   "metadata": {
    "id": "dAg5faPVEJXL"
   },
   "outputs": [],
   "source": [
    "args = easydict.EasyDict({\n",
    "    'name': 'Efficientnet-b4_useall', #model name\n",
    "    'train': True,\n",
    "    'batch_size': 32,       # input batch size\n",
    "    'n_epochs': 200,         # number of epochs\n",
    "    'n_workers': 4,         # number of data loading workers\n",
    "    'optimizer': 'adam', #optimizer (adam or sgd)\n",
    "    'learning_rate': 0.001, # learning rate\n",
    "    'beta1': 0.9,           # beta 1 for adam\n",
    "    'beta2': 0.999,         # beta 2 for adam\n",
    "    'momentum': 0.9,        # momentum for SGD\n",
    "    'weight_decay': 0.1,   # weight_decay for Adam, SGD\n",
    "    'step_size': 25,        # step size\n",
    "    'gamma': 0.8,           # gamma\n",
    "    'in_data_file': 'data/', # data directory\n",
    "    'model': '',      # model path reload\n",
    "    'out_dir': 'outputs/',    # output directory\n",
    "    'DCL': False              #Use DCL loss to handel imbalance\n",
    "})\n",
    "args.out_dir = args.out_dir + '{}_{}_lr{}'.format(args.name, args.optimizer, args.learning_rate)"
   ]
  },
  {
   "cell_type": "code",
   "execution_count": 5,
   "metadata": {
    "colab": {
     "base_uri": "https://localhost:8080/"
    },
    "id": "kdf0d6pzkcys",
    "outputId": "cfab2a10-9583-4ddc-c1a2-786b0e84bc00"
   },
   "outputs": [
    {
     "name": "stdout",
     "output_type": "stream",
     "text": [
      "cuda:0\n"
     ]
    }
   ],
   "source": [
    "train_path = \"./data/train_images\"\n",
    "files = glob.glob(f\"{train_path}/*.jpg\")\n",
    "csv = './data/train.csv'\n",
    "csv = pd.read_csv(csv)\n",
    "train_ratio = 0.8\n",
    "input_size = (380, 380)\n",
    "\n",
    "num_sample = 3000\n",
    "device = torch.device(\"cuda:0\" if torch.cuda.is_available() else \"cpu\")\n",
    "print(device)"
   ]
  },
  {
   "cell_type": "markdown",
   "metadata": {
    "id": "Ah4gM2Zv2MYx"
   },
   "source": [
    "**Outliers**"
   ]
  },
  {
   "cell_type": "code",
   "execution_count": 6,
   "metadata": {
    "id": "3d5VbJAU08ym"
   },
   "outputs": [],
   "source": [
    "from common import unusual, outliers\n",
    "\n",
    "unusual = unusual\n",
    "outliers = outliers"
   ]
  },
  {
   "cell_type": "code",
   "execution_count": 7,
   "metadata": {
    "colab": {
     "base_uri": "https://localhost:8080/"
    },
    "id": "FT1hnFFh19A5",
    "outputId": "ddc2ef85-9591-4958-b254-45380cf3bd80"
   },
   "outputs": [
    {
     "name": "stdout",
     "output_type": "stream",
     "text": [
      "number of images\n",
      "[1087, 2107, 2379, 13137, 2565]\n",
      "20275 1000\n"
     ]
    }
   ],
   "source": [
    "drop_index = [csv[csv['image_id'] == id].index.values[0] for id in (unusual + outliers)]\n",
    "csv = csv.drop(drop_index)\n",
    "csv = csv.reset_index(drop=True)\n",
    "\n",
    "img_count = [len(csv[csv['label'] == i]) for i in range(5)]\n",
    "print(\"number of images\")\n",
    "print(img_count)\n",
    "\n",
    "n_data = len(csv)\n",
    "n_val = 200 * 5\n",
    "n_train = n_data - n_val\n",
    "print(n_train, n_val)"
   ]
  },
  {
   "cell_type": "markdown",
   "metadata": {
    "id": "kya5scBIHvyR"
   },
   "source": [
    "## 2. DataLoader\n"
   ]
  },
  {
   "cell_type": "code",
   "execution_count": 8,
   "metadata": {
    "id": "4WDgGG1omfAc"
   },
   "outputs": [],
   "source": [
    "from utils import validation_sampler, imbalanced_validation_sampler\n",
    "\n",
    "train_idx, valid_idx = validation_sampler(root=train_path, n_data=n_data, n_val=n_val, csv=csv)\n",
    "train_idx, valid_idx = imbalanced_validation_sampler(root=train_path, n_data=n_data, n_val=n_val, csv=csv)"
   ]
  },
  {
   "cell_type": "markdown",
   "metadata": {
    "id": "dja7Xqde2JAv"
   },
   "source": [
    "## Data augmentation"
   ]
  },
  {
   "cell_type": "code",
   "execution_count": 9,
   "metadata": {
    "id": "c5j_wPoaV3Lj"
   },
   "outputs": [],
   "source": [
    "\"\"\"Rotation\"\"\"\n",
    "transform_rotation = albumentations.Compose([ albumentations.RandomRotate90(),\n",
    "                                        ])\n",
    "\n",
    "\"\"\"Flip\"\"\"\n",
    "transform_flip = albumentations.Compose([ albumentations.HorizontalFlip(),\n",
    "                                      albumentations.VerticalFlip(),\n",
    "                                    ])\n",
    "\n",
    "\"\"\"RandomResizeCrop\"\"\"\n",
    "transform_crop = albumentations.Compose([ albumentations.RandomResizedCrop(max(300, input_size[0]), max(300, input_size[0])),\n",
    "                                    ])\n",
    "\n",
    "\"\"\"PCA\"\"\"\n",
    "transform_PCA = albumentations.Compose([albumentations.FancyPCA(p=0.5)])\n",
    "\n",
    "train_transform=albumentations.Compose([\n",
    "                                    transform_crop,\n",
    "                                    albumentations.Resize(input_size[0], input_size[1]),\n",
    "                                    transform_rotation,\n",
    "                                    transform_flip,\n",
    "                                    transform_PCA,\n",
    "                                    albumentations.pytorch.ToTensorV2()\n",
    "                              ])\n",
    "\n",
    "test_transform=albumentations.Compose([\n",
    "                                    albumentations.Resize(input_size[0], input_size[1]),\n",
    "                                    albumentations.pytorch.ToTensorV2()\n",
    "                              ])"
   ]
  },
  {
   "cell_type": "code",
   "execution_count": 10,
   "metadata": {
    "id": "CXPp8gnjqbU_"
   },
   "outputs": [
    {
     "data": {
      "text/plain": [
       "'\\nUse arbitary sampled data\\n'"
      ]
     },
     "execution_count": 10,
     "metadata": {},
     "output_type": "execute_result"
    }
   ],
   "source": [
    "from utils import cassava_dataset_albu\n",
    "\n",
    "train_dataset = cassava_dataset_albu(root=train_path, csv=csv,\n",
    "                               train_test=\"train\",\n",
    "                               idx=train_idx,\n",
    "                               transform=train_transform)\n",
    "\n",
    "valid_dataset = cassava_dataset_albu(root=train_path, csv=csv,\n",
    "                               train_test=\"valid\",\n",
    "                               idx=valid_idx,\n",
    "                               transform=test_transform)\n",
    "'''\n",
    "Use all data\n",
    "'''\n",
    "train_loader = torch.utils.data.DataLoader(train_dataset,\n",
    "                                           batch_size=args.batch_size,\n",
    "                                           shuffle=True,\n",
    "                                           num_workers=args.n_workers,\n",
    "                                           drop_last=True)\n",
    "valid_loader = torch.utils.data.DataLoader(valid_dataset,\n",
    "                                           batch_size=args.batch_size,\n",
    "                                           shuffle=True,\n",
    "                                           num_workers=args.n_workers,\n",
    "                                           drop_last=False)\n",
    "\n",
    "'''\n",
    "Use arbitary sampled data\n",
    "'''\n",
    "# num_of_each_sample_train = num_sample\n",
    "\n",
    "# weights = 1 / torch.Tensor(img_count)\n",
    "# weights_all = torch.Tensor([weights[csv.iloc[i, 1]] for i in range(sum(img_count))])\n",
    "# train_sampler = torch.utils.data.sampler.WeightedRandomSampler(weights_all[train_idx], 5*num_of_each_sample_train)\n",
    "\n",
    "# train_loader = torch.utils.data.DataLoader(train_dataset,\n",
    "#                                            batch_size=args.batch_size,\n",
    "#                                            sampler=train_sampler,\n",
    "#                                            shuffle=False,\n",
    "#                                            num_workers=args.n_workers, \n",
    "#                                            drop_last=True)\n",
    "# valid_loader = torch.utils.data.DataLoader(valid_dataset,\n",
    "#                                            batch_size=args.batch_size,\n",
    "#                                            shuffle=False,\n",
    "#                                            num_workers=args.n_workers,\n",
    "#                                            drop_last=False)"
   ]
  },
  {
   "cell_type": "code",
   "execution_count": 11,
   "metadata": {},
   "outputs": [],
   "source": [
    "from DCL.total_loss import total_loss\n",
    "if args.DCL:\n",
    "    loss = total_loss(train_loader, args.n_epochs)\n",
    "else:\n",
    "    loss = None"
   ]
  },
  {
   "cell_type": "code",
   "execution_count": 12,
   "metadata": {
    "colab": {
     "base_uri": "https://localhost:8080/",
     "height": 805
    },
    "id": "G50cun3DuKlS",
    "outputId": "a54e45e5-bd7e-4d94-b5d8-09d0c8ead63b",
    "tags": []
   },
   "outputs": [],
   "source": [
    "# (sample_batch, sample_label) = next(iter(train_loader))\n",
    "\n",
    "# is_norm = False\n",
    "\n",
    "# fig = plt.figure(figsize=(12, 12))\n",
    "# for i in range(4):\n",
    "#     for j in range(4):\n",
    "#         fig.add_subplot(4, 4, (i * 4 + j + 1))\n",
    "#         if is_norm:\n",
    "#             plt.imshow(torch.clamp((sample_batch[i*4+j].permute(1,2,0) * 255).int(), 0, 255))\n",
    "#         else:\n",
    "#             plt.imshow(sample_batch[i*4+j].permute(1, 2, 0))\n",
    "#         plt.title(f\"label : {sample_label[i*4+j]}\")\n",
    "# plt.suptitle(\"Sample images\")"
   ]
  },
  {
   "cell_type": "markdown",
   "metadata": {
    "id": "AmVAgRgdDtAM"
   },
   "source": [
    "# Training Definition"
   ]
  },
  {
   "cell_type": "code",
   "execution_count": 13,
   "metadata": {
    "id": "4iHPb_ygXtGA",
    "tags": []
   },
   "outputs": [],
   "source": [
    "from utils import run_train, run_eval, run_epoch, run_epoch_train_and_test\n",
    "\n",
    "def train_model(args, train_dataset, train_dataloader, test_dataset, \n",
    "                test_dataloader, net):\n",
    "    if args.optimizer == 'adam':\n",
    "        optimizer = torch.optim.Adam(\n",
    "            net.parameters(), lr=args.learning_rate,\n",
    "            betas=(args.beta1, args.beta2))\n",
    "    elif args.optimizer == 'sgd':\n",
    "        optimizer = torch.optim.SGD(\n",
    "            net.parameters(), lr=args.learning_rate, momentum=args.momentum, \n",
    "            weight_decay=args.weight_decay)\n",
    "    scheduler = torch.optim.lr_scheduler.StepLR(\n",
    "        optimizer, step_size=args.step_size, gamma=args.gamma)\n",
    "\n",
    "    print(args)\n",
    "    print()\n",
    "    if torch.cuda.is_available():\n",
    "        net.to(device)\n",
    "\n",
    "    if args.model != '':\n",
    "        print(args.model, \"Loaded\")\n",
    "        net.load_state_dict(torch.load(args.model))\n",
    "\n",
    "    if not os.path.exists(args.out_dir):\n",
    "        os.makedirs(args.out_dir)\n",
    "    \n",
    "    if args.train:\n",
    "        writer = SummaryWriter(args.out_dir)\n",
    "        %load_ext tensorboard\n",
    "        %tensorboard --logdir={args.out_dir} --port 9990\n",
    "        best_acc = 0.0\n",
    "        for epoch in range(0, args.n_epochs):\n",
    "            test_loss, test_acc = run_epoch_train_and_test(train_dataset, \n",
    "                train_dataloader, test_dataset, test_dataloader, net, \n",
    "                optimizer, args, epoch, writer, loss)\n",
    "            \n",
    "            if loss is not None:\n",
    "                loss.step(epoch)\n",
    "                \n",
    "            if test_acc > best_acc:\n",
    "                best_acc = test_acc\n",
    "\n",
    "                model_file = os.path.join(\n",
    "                    args.out_dir, '{}_epoch{:d}.pt'.format(args.name, epoch + 1))\n",
    "                torch.save(net.state_dict(), model_file)\n",
    "                print(\"Saved '{}'.\".format(model_file))\n",
    "\n",
    "            scheduler.step()\n",
    "        print(\"best: {:.4f}\".format(best_acc))\n",
    "        writer.close()\n",
    "    else:\n",
    "        run_epoch_train_and_test(train_dataset, train_dataloader, test_dataset, test_dataloader)"
   ]
  },
  {
   "cell_type": "markdown",
   "metadata": {
    "id": "5ZXKjJnXE6Cc"
   },
   "source": [
    "# Model Definition"
   ]
  },
  {
   "cell_type": "code",
   "execution_count": 14,
   "metadata": {
    "id": "aG8G1HDxE4jn"
   },
   "outputs": [],
   "source": [
    "from efficientnet_pytorch import EfficientNet\n",
    "\n",
    "net = EfficientNet.from_name('efficientnet-b4', num_classes=5)"
   ]
  },
  {
   "cell_type": "markdown",
   "metadata": {
    "id": "u-AiwspWEQzJ"
   },
   "source": [
    "# Train"
   ]
  },
  {
   "cell_type": "code",
   "execution_count": null,
   "metadata": {
    "tags": []
   },
   "outputs": [
    {
     "name": "stdout",
     "output_type": "stream",
     "text": [
      "{'name': 'Efficientnet-b4_useall', 'train': True, 'batch_size': 32, 'n_epochs': 200, 'n_workers': 4, 'optimizer': 'adam', 'learning_rate': 0.001, 'beta1': 0.9, 'beta2': 0.999, 'momentum': 0.9, 'weight_decay': 0.1, 'step_size': 25, 'gamma': 0.8, 'in_data_file': 'data/', 'model': '', 'out_dir': 'outputs/Efficientnet-b4_useall_adam_lr0.001', 'DCL': False}\n",
      "\n"
     ]
    },
    {
     "data": {
      "text/html": [
       "\n",
       "      <iframe id=\"tensorboard-frame-7222d7283ab5a383\" width=\"100%\" height=\"800\" frameborder=\"0\">\n",
       "      </iframe>\n",
       "      <script>\n",
       "        (function() {\n",
       "          const frame = document.getElementById(\"tensorboard-frame-7222d7283ab5a383\");\n",
       "          const url = new URL(\"/\", window.location);\n",
       "          const port = 9990;\n",
       "          if (port) {\n",
       "            url.port = port;\n",
       "          }\n",
       "          frame.src = url;\n",
       "        })();\n",
       "      </script>\n",
       "    "
      ],
      "text/plain": [
       "<IPython.core.display.HTML object>"
      ]
     },
     "metadata": {},
     "output_type": "display_data"
    },
    {
     "data": {
      "application/vnd.jupyter.widget-view+json": {
       "model_id": "004b5ee16e1b420aa994600dcf75c19e",
       "version_major": 2,
       "version_minor": 0
      },
      "text/plain": [
       "  0%|          | 0/20256 [00:00<?, ?it/s]"
      ]
     },
     "metadata": {},
     "output_type": "display_data"
    },
    {
     "data": {
      "application/vnd.jupyter.widget-view+json": {
       "model_id": "74bc2a9a9a724a6ca8eb6676ec049f0b",
       "version_major": 2,
       "version_minor": 0
      },
      "text/plain": [
       "  0%|          | 0/1000 [00:00<?, ?it/s]"
      ]
     },
     "metadata": {},
     "output_type": "display_data"
    },
    {
     "name": "stdout",
     "output_type": "stream",
     "text": [
      "[Epoch 000/200] Train Loss: 1.064628, Train Acc: 0.6255%, Test Loss: 0.921677, Test Acc: 0.6710%.\n",
      "Saved 'outputs/Efficientnet-b4_useall_adam_lr0.001/Efficientnet-b4_useall_epoch1.pt'.\n"
     ]
    },
    {
     "data": {
      "application/vnd.jupyter.widget-view+json": {
       "model_id": "e52f7992f4624727984d221b18ff7691",
       "version_major": 2,
       "version_minor": 0
      },
      "text/plain": [
       "  0%|          | 0/20256 [00:00<?, ?it/s]"
      ]
     },
     "metadata": {},
     "output_type": "display_data"
    },
    {
     "data": {
      "application/vnd.jupyter.widget-view+json": {
       "model_id": "33d566ed8ab64df7ae2b8819113b399e",
       "version_major": 2,
       "version_minor": 0
      },
      "text/plain": [
       "  0%|          | 0/1000 [00:00<?, ?it/s]"
      ]
     },
     "metadata": {},
     "output_type": "display_data"
    },
    {
     "name": "stdout",
     "output_type": "stream",
     "text": [
      "[Epoch 001/200] Train Loss: 0.885723, Train Acc: 0.6620%, Test Loss: 0.932428, Test Acc: 0.6680%.\n"
     ]
    },
    {
     "data": {
      "application/vnd.jupyter.widget-view+json": {
       "model_id": "62fb6e330b0f4ff9850e7942b2fcfe85",
       "version_major": 2,
       "version_minor": 0
      },
      "text/plain": [
       "  0%|          | 0/20256 [00:00<?, ?it/s]"
      ]
     },
     "metadata": {},
     "output_type": "display_data"
    },
    {
     "data": {
      "application/vnd.jupyter.widget-view+json": {
       "model_id": "0d17af51eae44dd6be9e7a3b5a2658f1",
       "version_major": 2,
       "version_minor": 0
      },
      "text/plain": [
       "  0%|          | 0/1000 [00:00<?, ?it/s]"
      ]
     },
     "metadata": {},
     "output_type": "display_data"
    },
    {
     "name": "stdout",
     "output_type": "stream",
     "text": [
      "[Epoch 002/200] Train Loss: 0.795769, Train Acc: 0.7000%, Test Loss: 1.016691, Test Acc: 0.6640%.\n"
     ]
    },
    {
     "data": {
      "application/vnd.jupyter.widget-view+json": {
       "model_id": "46532bb8b37b46068c4da23c5a9a93b6",
       "version_major": 2,
       "version_minor": 0
      },
      "text/plain": [
       "  0%|          | 0/20256 [00:00<?, ?it/s]"
      ]
     },
     "metadata": {},
     "output_type": "display_data"
    },
    {
     "data": {
      "application/vnd.jupyter.widget-view+json": {
       "model_id": "77273d25aaaa4fe79fd2d087178cda74",
       "version_major": 2,
       "version_minor": 0
      },
      "text/plain": [
       "  0%|          | 0/1000 [00:00<?, ?it/s]"
      ]
     },
     "metadata": {},
     "output_type": "display_data"
    },
    {
     "name": "stdout",
     "output_type": "stream",
     "text": [
      "[Epoch 003/200] Train Loss: 0.722303, Train Acc: 0.7378%, Test Loss: 0.688178, Test Acc: 0.7700%.\n",
      "Saved 'outputs/Efficientnet-b4_useall_adam_lr0.001/Efficientnet-b4_useall_epoch4.pt'.\n"
     ]
    },
    {
     "data": {
      "application/vnd.jupyter.widget-view+json": {
       "model_id": "d69900ddd9be4497b1cd83c0464b7d08",
       "version_major": 2,
       "version_minor": 0
      },
      "text/plain": [
       "  0%|          | 0/20256 [00:00<?, ?it/s]"
      ]
     },
     "metadata": {},
     "output_type": "display_data"
    },
    {
     "data": {
      "application/vnd.jupyter.widget-view+json": {
       "model_id": "f66b09e70cc64c69baa9b38e0788a5ad",
       "version_major": 2,
       "version_minor": 0
      },
      "text/plain": [
       "  0%|          | 0/1000 [00:00<?, ?it/s]"
      ]
     },
     "metadata": {},
     "output_type": "display_data"
    },
    {
     "name": "stdout",
     "output_type": "stream",
     "text": [
      "[Epoch 004/200] Train Loss: 0.660280, Train Acc: 0.7644%, Test Loss: 0.622201, Test Acc: 0.7850%.\n",
      "Saved 'outputs/Efficientnet-b4_useall_adam_lr0.001/Efficientnet-b4_useall_epoch5.pt'.\n"
     ]
    },
    {
     "data": {
      "application/vnd.jupyter.widget-view+json": {
       "model_id": "4add1aee52eb4f70be95c06c7230afeb",
       "version_major": 2,
       "version_minor": 0
      },
      "text/plain": [
       "  0%|          | 0/20256 [00:00<?, ?it/s]"
      ]
     },
     "metadata": {},
     "output_type": "display_data"
    },
    {
     "data": {
      "application/vnd.jupyter.widget-view+json": {
       "model_id": "18c0a7383dca420184768d2994073a08",
       "version_major": 2,
       "version_minor": 0
      },
      "text/plain": [
       "  0%|          | 0/1000 [00:00<?, ?it/s]"
      ]
     },
     "metadata": {},
     "output_type": "display_data"
    },
    {
     "name": "stdout",
     "output_type": "stream",
     "text": [
      "[Epoch 005/200] Train Loss: 0.632413, Train Acc: 0.7730%, Test Loss: 0.685630, Test Acc: 0.7490%.\n"
     ]
    },
    {
     "data": {
      "application/vnd.jupyter.widget-view+json": {
       "model_id": "ddb4510a09774c0982b514f2e67bde35",
       "version_major": 2,
       "version_minor": 0
      },
      "text/plain": [
       "  0%|          | 0/20256 [00:00<?, ?it/s]"
      ]
     },
     "metadata": {},
     "output_type": "display_data"
    },
    {
     "data": {
      "application/vnd.jupyter.widget-view+json": {
       "model_id": "17924d7fbafa4bcbbc50386bdfa92c8e",
       "version_major": 2,
       "version_minor": 0
      },
      "text/plain": [
       "  0%|          | 0/1000 [00:00<?, ?it/s]"
      ]
     },
     "metadata": {},
     "output_type": "display_data"
    },
    {
     "name": "stdout",
     "output_type": "stream",
     "text": [
      "[Epoch 006/200] Train Loss: 0.611804, Train Acc: 0.7823%, Test Loss: 0.620246, Test Acc: 0.7850%.\n"
     ]
    },
    {
     "data": {
      "application/vnd.jupyter.widget-view+json": {
       "model_id": "c228fdd5e98540a68c17a9fdedb0db6a",
       "version_major": 2,
       "version_minor": 0
      },
      "text/plain": [
       "  0%|          | 0/20256 [00:00<?, ?it/s]"
      ]
     },
     "metadata": {},
     "output_type": "display_data"
    },
    {
     "data": {
      "application/vnd.jupyter.widget-view+json": {
       "model_id": "c4e1056f25c743ae9a7d91dd05084c79",
       "version_major": 2,
       "version_minor": 0
      },
      "text/plain": [
       "  0%|          | 0/1000 [00:00<?, ?it/s]"
      ]
     },
     "metadata": {},
     "output_type": "display_data"
    },
    {
     "name": "stdout",
     "output_type": "stream",
     "text": [
      "[Epoch 007/200] Train Loss: 0.588917, Train Acc: 0.7945%, Test Loss: 0.582395, Test Acc: 0.8000%.\n",
      "Saved 'outputs/Efficientnet-b4_useall_adam_lr0.001/Efficientnet-b4_useall_epoch8.pt'.\n"
     ]
    },
    {
     "data": {
      "application/vnd.jupyter.widget-view+json": {
       "model_id": "b213cb78577b489c98a719762c0f6767",
       "version_major": 2,
       "version_minor": 0
      },
      "text/plain": [
       "  0%|          | 0/20256 [00:00<?, ?it/s]"
      ]
     },
     "metadata": {},
     "output_type": "display_data"
    },
    {
     "data": {
      "application/vnd.jupyter.widget-view+json": {
       "model_id": "278b0c2fbb7946269d5ae3038ec1a918",
       "version_major": 2,
       "version_minor": 0
      },
      "text/plain": [
       "  0%|          | 0/1000 [00:00<?, ?it/s]"
      ]
     },
     "metadata": {},
     "output_type": "display_data"
    },
    {
     "name": "stdout",
     "output_type": "stream",
     "text": [
      "[Epoch 008/200] Train Loss: 0.580787, Train Acc: 0.7972%, Test Loss: 0.566789, Test Acc: 0.8170%.\n",
      "Saved 'outputs/Efficientnet-b4_useall_adam_lr0.001/Efficientnet-b4_useall_epoch9.pt'.\n"
     ]
    },
    {
     "data": {
      "application/vnd.jupyter.widget-view+json": {
       "model_id": "11fb21d9397e47aab51c79ff949f3b6d",
       "version_major": 2,
       "version_minor": 0
      },
      "text/plain": [
       "  0%|          | 0/20256 [00:00<?, ?it/s]"
      ]
     },
     "metadata": {},
     "output_type": "display_data"
    },
    {
     "data": {
      "application/vnd.jupyter.widget-view+json": {
       "model_id": "ca309e595fec4044b1e81c78336f8e70",
       "version_major": 2,
       "version_minor": 0
      },
      "text/plain": [
       "  0%|          | 0/1000 [00:00<?, ?it/s]"
      ]
     },
     "metadata": {},
     "output_type": "display_data"
    },
    {
     "name": "stdout",
     "output_type": "stream",
     "text": [
      "[Epoch 009/200] Train Loss: 0.573320, Train Acc: 0.7981%, Test Loss: 0.611067, Test Acc: 0.8010%.\n"
     ]
    },
    {
     "data": {
      "application/vnd.jupyter.widget-view+json": {
       "model_id": "afaaa401969545b79e6d0f7992e07611",
       "version_major": 2,
       "version_minor": 0
      },
      "text/plain": [
       "  0%|          | 0/20256 [00:00<?, ?it/s]"
      ]
     },
     "metadata": {},
     "output_type": "display_data"
    },
    {
     "data": {
      "application/vnd.jupyter.widget-view+json": {
       "model_id": "5cacdfe7c79d4d1db8e34218f334940d",
       "version_major": 2,
       "version_minor": 0
      },
      "text/plain": [
       "  0%|          | 0/1000 [00:00<?, ?it/s]"
      ]
     },
     "metadata": {},
     "output_type": "display_data"
    },
    {
     "name": "stdout",
     "output_type": "stream",
     "text": [
      "[Epoch 010/200] Train Loss: 0.548488, Train Acc: 0.8071%, Test Loss: 0.666419, Test Acc: 0.7810%.\n"
     ]
    },
    {
     "data": {
      "application/vnd.jupyter.widget-view+json": {
       "model_id": "da3d989a0d93440288e69222a14fd307",
       "version_major": 2,
       "version_minor": 0
      },
      "text/plain": [
       "  0%|          | 0/20256 [00:00<?, ?it/s]"
      ]
     },
     "metadata": {},
     "output_type": "display_data"
    },
    {
     "data": {
      "application/vnd.jupyter.widget-view+json": {
       "model_id": "2e53c84e4b9a4e4da2a4afd52b72cb16",
       "version_major": 2,
       "version_minor": 0
      },
      "text/plain": [
       "  0%|          | 0/1000 [00:00<?, ?it/s]"
      ]
     },
     "metadata": {},
     "output_type": "display_data"
    },
    {
     "name": "stdout",
     "output_type": "stream",
     "text": [
      "[Epoch 011/200] Train Loss: 0.550690, Train Acc: 0.8082%, Test Loss: 0.516658, Test Acc: 0.8210%.\n",
      "Saved 'outputs/Efficientnet-b4_useall_adam_lr0.001/Efficientnet-b4_useall_epoch12.pt'.\n"
     ]
    },
    {
     "data": {
      "application/vnd.jupyter.widget-view+json": {
       "model_id": "3766388af62e4cb3b5307a9f1d765238",
       "version_major": 2,
       "version_minor": 0
      },
      "text/plain": [
       "  0%|          | 0/20256 [00:00<?, ?it/s]"
      ]
     },
     "metadata": {},
     "output_type": "display_data"
    },
    {
     "data": {
      "application/vnd.jupyter.widget-view+json": {
       "model_id": "7d12bce5e3ae4acdbe2df091d6cb819e",
       "version_major": 2,
       "version_minor": 0
      },
      "text/plain": [
       "  0%|          | 0/1000 [00:00<?, ?it/s]"
      ]
     },
     "metadata": {},
     "output_type": "display_data"
    },
    {
     "name": "stdout",
     "output_type": "stream",
     "text": [
      "[Epoch 012/200] Train Loss: 0.530789, Train Acc: 0.8166%, Test Loss: 0.603931, Test Acc: 0.7970%.\n"
     ]
    },
    {
     "data": {
      "application/vnd.jupyter.widget-view+json": {
       "model_id": "699cfd08b8f24a2fb579f926ff33fd4a",
       "version_major": 2,
       "version_minor": 0
      },
      "text/plain": [
       "  0%|          | 0/20256 [00:00<?, ?it/s]"
      ]
     },
     "metadata": {},
     "output_type": "display_data"
    },
    {
     "data": {
      "application/vnd.jupyter.widget-view+json": {
       "model_id": "837735acc86c4ebd874ac0fef64d8113",
       "version_major": 2,
       "version_minor": 0
      },
      "text/plain": [
       "  0%|          | 0/1000 [00:00<?, ?it/s]"
      ]
     },
     "metadata": {},
     "output_type": "display_data"
    },
    {
     "name": "stdout",
     "output_type": "stream",
     "text": [
      "[Epoch 013/200] Train Loss: 0.525510, Train Acc: 0.8149%, Test Loss: 0.872334, Test Acc: 0.6890%.\n"
     ]
    },
    {
     "data": {
      "application/vnd.jupyter.widget-view+json": {
       "model_id": "e85b88eb032844cfa6681696a05de73f",
       "version_major": 2,
       "version_minor": 0
      },
      "text/plain": [
       "  0%|          | 0/20256 [00:00<?, ?it/s]"
      ]
     },
     "metadata": {},
     "output_type": "display_data"
    },
    {
     "data": {
      "application/vnd.jupyter.widget-view+json": {
       "model_id": "049413d558984c1fa6a5033e0a115d73",
       "version_major": 2,
       "version_minor": 0
      },
      "text/plain": [
       "  0%|          | 0/1000 [00:00<?, ?it/s]"
      ]
     },
     "metadata": {},
     "output_type": "display_data"
    },
    {
     "name": "stdout",
     "output_type": "stream",
     "text": [
      "[Epoch 014/200] Train Loss: 0.519177, Train Acc: 0.8184%, Test Loss: 0.574973, Test Acc: 0.8200%.\n"
     ]
    },
    {
     "data": {
      "application/vnd.jupyter.widget-view+json": {
       "model_id": "11ef10125c6a432f822b211a9b0d79c1",
       "version_major": 2,
       "version_minor": 0
      },
      "text/plain": [
       "  0%|          | 0/20256 [00:00<?, ?it/s]"
      ]
     },
     "metadata": {},
     "output_type": "display_data"
    },
    {
     "data": {
      "application/vnd.jupyter.widget-view+json": {
       "model_id": "f387aade2b3c4941a3603fcae992a448",
       "version_major": 2,
       "version_minor": 0
      },
      "text/plain": [
       "  0%|          | 0/1000 [00:00<?, ?it/s]"
      ]
     },
     "metadata": {},
     "output_type": "display_data"
    },
    {
     "name": "stdout",
     "output_type": "stream",
     "text": [
      "[Epoch 015/200] Train Loss: 0.515021, Train Acc: 0.8181%, Test Loss: 0.494473, Test Acc: 0.8200%.\n"
     ]
    },
    {
     "data": {
      "application/vnd.jupyter.widget-view+json": {
       "model_id": "872e513b00c444adb2ad9aed6793548e",
       "version_major": 2,
       "version_minor": 0
      },
      "text/plain": [
       "  0%|          | 0/20256 [00:00<?, ?it/s]"
      ]
     },
     "metadata": {},
     "output_type": "display_data"
    },
    {
     "data": {
      "application/vnd.jupyter.widget-view+json": {
       "model_id": "0a3bf6d10cef4882ba6abaf7d229d9af",
       "version_major": 2,
       "version_minor": 0
      },
      "text/plain": [
       "  0%|          | 0/1000 [00:00<?, ?it/s]"
      ]
     },
     "metadata": {},
     "output_type": "display_data"
    },
    {
     "name": "stdout",
     "output_type": "stream",
     "text": [
      "[Epoch 016/200] Train Loss: 0.502840, Train Acc: 0.8234%, Test Loss: 0.591506, Test Acc: 0.8070%.\n"
     ]
    },
    {
     "data": {
      "application/vnd.jupyter.widget-view+json": {
       "model_id": "8c4924c66d8b4d4d991aaa731681fd3d",
       "version_major": 2,
       "version_minor": 0
      },
      "text/plain": [
       "  0%|          | 0/20256 [00:00<?, ?it/s]"
      ]
     },
     "metadata": {},
     "output_type": "display_data"
    },
    {
     "data": {
      "application/vnd.jupyter.widget-view+json": {
       "model_id": "528e279f6ed446d08256ed489e69248c",
       "version_major": 2,
       "version_minor": 0
      },
      "text/plain": [
       "  0%|          | 0/1000 [00:00<?, ?it/s]"
      ]
     },
     "metadata": {},
     "output_type": "display_data"
    },
    {
     "name": "stdout",
     "output_type": "stream",
     "text": [
      "[Epoch 017/200] Train Loss: 0.493689, Train Acc: 0.8289%, Test Loss: 0.475398, Test Acc: 0.8280%.\n",
      "Saved 'outputs/Efficientnet-b4_useall_adam_lr0.001/Efficientnet-b4_useall_epoch18.pt'.\n"
     ]
    },
    {
     "data": {
      "application/vnd.jupyter.widget-view+json": {
       "model_id": "d49c368c35924b6aa677a552a63223b0",
       "version_major": 2,
       "version_minor": 0
      },
      "text/plain": [
       "  0%|          | 0/20256 [00:00<?, ?it/s]"
      ]
     },
     "metadata": {},
     "output_type": "display_data"
    },
    {
     "data": {
      "application/vnd.jupyter.widget-view+json": {
       "model_id": "4273f6563dd644d3b2e2b15735f7426f",
       "version_major": 2,
       "version_minor": 0
      },
      "text/plain": [
       "  0%|          | 0/1000 [00:00<?, ?it/s]"
      ]
     },
     "metadata": {},
     "output_type": "display_data"
    },
    {
     "name": "stdout",
     "output_type": "stream",
     "text": [
      "[Epoch 018/200] Train Loss: 0.495487, Train Acc: 0.8253%, Test Loss: 0.595319, Test Acc: 0.8050%.\n"
     ]
    },
    {
     "data": {
      "application/vnd.jupyter.widget-view+json": {
       "model_id": "c60a4f98c13b4d2b8e1a12c2eee5405a",
       "version_major": 2,
       "version_minor": 0
      },
      "text/plain": [
       "  0%|          | 0/20256 [00:00<?, ?it/s]"
      ]
     },
     "metadata": {},
     "output_type": "display_data"
    },
    {
     "data": {
      "application/vnd.jupyter.widget-view+json": {
       "model_id": "e975446bd26645739a34021e8dad3f22",
       "version_major": 2,
       "version_minor": 0
      },
      "text/plain": [
       "  0%|          | 0/1000 [00:00<?, ?it/s]"
      ]
     },
     "metadata": {},
     "output_type": "display_data"
    },
    {
     "name": "stdout",
     "output_type": "stream",
     "text": [
      "[Epoch 019/200] Train Loss: 0.484281, Train Acc: 0.8289%, Test Loss: 0.557881, Test Acc: 0.8080%.\n"
     ]
    },
    {
     "data": {
      "application/vnd.jupyter.widget-view+json": {
       "model_id": "0239159441d74aebad281e2669d29055",
       "version_major": 2,
       "version_minor": 0
      },
      "text/plain": [
       "  0%|          | 0/20256 [00:00<?, ?it/s]"
      ]
     },
     "metadata": {},
     "output_type": "display_data"
    },
    {
     "data": {
      "application/vnd.jupyter.widget-view+json": {
       "model_id": "6a9322b8f2e943c5be2ae64648125cbf",
       "version_major": 2,
       "version_minor": 0
      },
      "text/plain": [
       "  0%|          | 0/1000 [00:00<?, ?it/s]"
      ]
     },
     "metadata": {},
     "output_type": "display_data"
    },
    {
     "name": "stdout",
     "output_type": "stream",
     "text": [
      "[Epoch 020/200] Train Loss: 0.478851, Train Acc: 0.8361%, Test Loss: 0.527107, Test Acc: 0.8330%.\n",
      "Saved 'outputs/Efficientnet-b4_useall_adam_lr0.001/Efficientnet-b4_useall_epoch21.pt'.\n"
     ]
    },
    {
     "data": {
      "application/vnd.jupyter.widget-view+json": {
       "model_id": "11606d78f7bf4672a4044ac7db4a8247",
       "version_major": 2,
       "version_minor": 0
      },
      "text/plain": [
       "  0%|          | 0/20256 [00:00<?, ?it/s]"
      ]
     },
     "metadata": {},
     "output_type": "display_data"
    },
    {
     "data": {
      "application/vnd.jupyter.widget-view+json": {
       "model_id": "74dba822ef234511a19f2ac8206fb397",
       "version_major": 2,
       "version_minor": 0
      },
      "text/plain": [
       "  0%|          | 0/1000 [00:00<?, ?it/s]"
      ]
     },
     "metadata": {},
     "output_type": "display_data"
    },
    {
     "name": "stdout",
     "output_type": "stream",
     "text": [
      "[Epoch 021/200] Train Loss: 0.480650, Train Acc: 0.8318%, Test Loss: 0.538150, Test Acc: 0.8320%.\n"
     ]
    },
    {
     "data": {
      "application/vnd.jupyter.widget-view+json": {
       "model_id": "6d26959706d64f42b0419f1de25f94be",
       "version_major": 2,
       "version_minor": 0
      },
      "text/plain": [
       "  0%|          | 0/20256 [00:00<?, ?it/s]"
      ]
     },
     "metadata": {},
     "output_type": "display_data"
    },
    {
     "data": {
      "application/vnd.jupyter.widget-view+json": {
       "model_id": "8d253e6003fb4e6a836bd424e0989a13",
       "version_major": 2,
       "version_minor": 0
      },
      "text/plain": [
       "  0%|          | 0/1000 [00:00<?, ?it/s]"
      ]
     },
     "metadata": {},
     "output_type": "display_data"
    },
    {
     "name": "stdout",
     "output_type": "stream",
     "text": [
      "[Epoch 022/200] Train Loss: 0.476162, Train Acc: 0.8347%, Test Loss: 0.467765, Test Acc: 0.8450%.\n",
      "Saved 'outputs/Efficientnet-b4_useall_adam_lr0.001/Efficientnet-b4_useall_epoch23.pt'.\n"
     ]
    },
    {
     "data": {
      "application/vnd.jupyter.widget-view+json": {
       "model_id": "59c835c998b14b8280d710901d733a55",
       "version_major": 2,
       "version_minor": 0
      },
      "text/plain": [
       "  0%|          | 0/20256 [00:00<?, ?it/s]"
      ]
     },
     "metadata": {},
     "output_type": "display_data"
    },
    {
     "data": {
      "application/vnd.jupyter.widget-view+json": {
       "model_id": "ba8733f3c8c34642a58644dd3b0c5c50",
       "version_major": 2,
       "version_minor": 0
      },
      "text/plain": [
       "  0%|          | 0/1000 [00:00<?, ?it/s]"
      ]
     },
     "metadata": {},
     "output_type": "display_data"
    },
    {
     "name": "stdout",
     "output_type": "stream",
     "text": [
      "[Epoch 023/200] Train Loss: 0.466802, Train Acc: 0.8367%, Test Loss: 0.586264, Test Acc: 0.8120%.\n"
     ]
    },
    {
     "data": {
      "application/vnd.jupyter.widget-view+json": {
       "model_id": "2941a7a02a584863967c497e410ff1b8",
       "version_major": 2,
       "version_minor": 0
      },
      "text/plain": [
       "  0%|          | 0/20256 [00:00<?, ?it/s]"
      ]
     },
     "metadata": {},
     "output_type": "display_data"
    },
    {
     "data": {
      "application/vnd.jupyter.widget-view+json": {
       "model_id": "48bcc08d71bb4f3ab034da0d58f06f30",
       "version_major": 2,
       "version_minor": 0
      },
      "text/plain": [
       "  0%|          | 0/1000 [00:00<?, ?it/s]"
      ]
     },
     "metadata": {},
     "output_type": "display_data"
    },
    {
     "name": "stdout",
     "output_type": "stream",
     "text": [
      "[Epoch 024/200] Train Loss: 0.467260, Train Acc: 0.8394%, Test Loss: 0.540082, Test Acc: 0.8320%.\n"
     ]
    },
    {
     "data": {
      "application/vnd.jupyter.widget-view+json": {
       "model_id": "e17a9f9516054156aa2ee3f8f6e6ee10",
       "version_major": 2,
       "version_minor": 0
      },
      "text/plain": [
       "  0%|          | 0/20256 [00:00<?, ?it/s]"
      ]
     },
     "metadata": {},
     "output_type": "display_data"
    },
    {
     "data": {
      "application/vnd.jupyter.widget-view+json": {
       "model_id": "78d35e0fb8e945c8a44d85e457bda716",
       "version_major": 2,
       "version_minor": 0
      },
      "text/plain": [
       "  0%|          | 0/1000 [00:00<?, ?it/s]"
      ]
     },
     "metadata": {},
     "output_type": "display_data"
    },
    {
     "name": "stdout",
     "output_type": "stream",
     "text": [
      "[Epoch 025/200] Train Loss: 0.446681, Train Acc: 0.8436%, Test Loss: 0.430821, Test Acc: 0.8500%.\n",
      "Saved 'outputs/Efficientnet-b4_useall_adam_lr0.001/Efficientnet-b4_useall_epoch26.pt'.\n"
     ]
    },
    {
     "data": {
      "application/vnd.jupyter.widget-view+json": {
       "model_id": "06b1bbedc1af479b826a51e4a834c6d7",
       "version_major": 2,
       "version_minor": 0
      },
      "text/plain": [
       "  0%|          | 0/20256 [00:00<?, ?it/s]"
      ]
     },
     "metadata": {},
     "output_type": "display_data"
    },
    {
     "data": {
      "application/vnd.jupyter.widget-view+json": {
       "model_id": "5f2d588d77e642728bee05a10207198d",
       "version_major": 2,
       "version_minor": 0
      },
      "text/plain": [
       "  0%|          | 0/1000 [00:00<?, ?it/s]"
      ]
     },
     "metadata": {},
     "output_type": "display_data"
    },
    {
     "name": "stdout",
     "output_type": "stream",
     "text": [
      "[Epoch 026/200] Train Loss: 0.442270, Train Acc: 0.8477%, Test Loss: 0.446279, Test Acc: 0.8520%.\n",
      "Saved 'outputs/Efficientnet-b4_useall_adam_lr0.001/Efficientnet-b4_useall_epoch27.pt'.\n"
     ]
    },
    {
     "data": {
      "application/vnd.jupyter.widget-view+json": {
       "model_id": "8aad0b3d626b47d3ac1583cd70210aa5",
       "version_major": 2,
       "version_minor": 0
      },
      "text/plain": [
       "  0%|          | 0/20256 [00:00<?, ?it/s]"
      ]
     },
     "metadata": {},
     "output_type": "display_data"
    },
    {
     "data": {
      "application/vnd.jupyter.widget-view+json": {
       "model_id": "65d52ec048f8462fab4ef4b7af85eda5",
       "version_major": 2,
       "version_minor": 0
      },
      "text/plain": [
       "  0%|          | 0/1000 [00:00<?, ?it/s]"
      ]
     },
     "metadata": {},
     "output_type": "display_data"
    },
    {
     "name": "stdout",
     "output_type": "stream",
     "text": [
      "[Epoch 027/200] Train Loss: 0.442071, Train Acc: 0.8477%, Test Loss: 0.435548, Test Acc: 0.8570%.\n",
      "Saved 'outputs/Efficientnet-b4_useall_adam_lr0.001/Efficientnet-b4_useall_epoch28.pt'.\n"
     ]
    },
    {
     "data": {
      "application/vnd.jupyter.widget-view+json": {
       "model_id": "7e6efcf72c81445e97e9baff74d3bd0f",
       "version_major": 2,
       "version_minor": 0
      },
      "text/plain": [
       "  0%|          | 0/20256 [00:00<?, ?it/s]"
      ]
     },
     "metadata": {},
     "output_type": "display_data"
    },
    {
     "data": {
      "application/vnd.jupyter.widget-view+json": {
       "model_id": "1ae4057931f84a13baa4d46f79dbb73b",
       "version_major": 2,
       "version_minor": 0
      },
      "text/plain": [
       "  0%|          | 0/1000 [00:00<?, ?it/s]"
      ]
     },
     "metadata": {},
     "output_type": "display_data"
    },
    {
     "name": "stdout",
     "output_type": "stream",
     "text": [
      "[Epoch 028/200] Train Loss: 0.437789, Train Acc: 0.8469%, Test Loss: 0.453128, Test Acc: 0.8400%.\n"
     ]
    },
    {
     "data": {
      "application/vnd.jupyter.widget-view+json": {
       "model_id": "ca3c3f7bc5194dadb74d365c9e09b944",
       "version_major": 2,
       "version_minor": 0
      },
      "text/plain": [
       "  0%|          | 0/20256 [00:00<?, ?it/s]"
      ]
     },
     "metadata": {},
     "output_type": "display_data"
    },
    {
     "data": {
      "application/vnd.jupyter.widget-view+json": {
       "model_id": "59850b0d0c6d423290dd4dea8690f65b",
       "version_major": 2,
       "version_minor": 0
      },
      "text/plain": [
       "  0%|          | 0/1000 [00:00<?, ?it/s]"
      ]
     },
     "metadata": {},
     "output_type": "display_data"
    },
    {
     "name": "stdout",
     "output_type": "stream",
     "text": [
      "[Epoch 029/200] Train Loss: 0.432951, Train Acc: 0.8525%, Test Loss: 0.487724, Test Acc: 0.8520%.\n"
     ]
    },
    {
     "data": {
      "application/vnd.jupyter.widget-view+json": {
       "model_id": "081718c3032d48ad9c5829dea7175ab6",
       "version_major": 2,
       "version_minor": 0
      },
      "text/plain": [
       "  0%|          | 0/20256 [00:00<?, ?it/s]"
      ]
     },
     "metadata": {},
     "output_type": "display_data"
    },
    {
     "data": {
      "application/vnd.jupyter.widget-view+json": {
       "model_id": "1763d1a1f4024ac0b9c02f9adb3dc503",
       "version_major": 2,
       "version_minor": 0
      },
      "text/plain": [
       "  0%|          | 0/1000 [00:00<?, ?it/s]"
      ]
     },
     "metadata": {},
     "output_type": "display_data"
    },
    {
     "name": "stdout",
     "output_type": "stream",
     "text": [
      "[Epoch 030/200] Train Loss: 0.434012, Train Acc: 0.8466%, Test Loss: 0.448207, Test Acc: 0.8570%.\n"
     ]
    },
    {
     "data": {
      "application/vnd.jupyter.widget-view+json": {
       "model_id": "5ce1c572efdb441e88a65d9139c4524a",
       "version_major": 2,
       "version_minor": 0
      },
      "text/plain": [
       "  0%|          | 0/20256 [00:00<?, ?it/s]"
      ]
     },
     "metadata": {},
     "output_type": "display_data"
    },
    {
     "data": {
      "application/vnd.jupyter.widget-view+json": {
       "model_id": "7e0fda634463445dba8c501ed558339a",
       "version_major": 2,
       "version_minor": 0
      },
      "text/plain": [
       "  0%|          | 0/1000 [00:00<?, ?it/s]"
      ]
     },
     "metadata": {},
     "output_type": "display_data"
    },
    {
     "name": "stdout",
     "output_type": "stream",
     "text": [
      "[Epoch 031/200] Train Loss: 0.427162, Train Acc: 0.8527%, Test Loss: 0.425672, Test Acc: 0.8510%.\n"
     ]
    },
    {
     "data": {
      "application/vnd.jupyter.widget-view+json": {
       "model_id": "990ff16199f84a958e70f102df00d3f7",
       "version_major": 2,
       "version_minor": 0
      },
      "text/plain": [
       "  0%|          | 0/20256 [00:00<?, ?it/s]"
      ]
     },
     "metadata": {},
     "output_type": "display_data"
    },
    {
     "data": {
      "application/vnd.jupyter.widget-view+json": {
       "model_id": "21490f6907b847148a6274f519aa1355",
       "version_major": 2,
       "version_minor": 0
      },
      "text/plain": [
       "  0%|          | 0/1000 [00:00<?, ?it/s]"
      ]
     },
     "metadata": {},
     "output_type": "display_data"
    },
    {
     "name": "stdout",
     "output_type": "stream",
     "text": [
      "[Epoch 032/200] Train Loss: 0.427053, Train Acc: 0.8516%, Test Loss: 0.472004, Test Acc: 0.8530%.\n"
     ]
    },
    {
     "data": {
      "application/vnd.jupyter.widget-view+json": {
       "model_id": "daf1ae5e332d41e3abb4b30a361924f8",
       "version_major": 2,
       "version_minor": 0
      },
      "text/plain": [
       "  0%|          | 0/20256 [00:00<?, ?it/s]"
      ]
     },
     "metadata": {},
     "output_type": "display_data"
    },
    {
     "data": {
      "application/vnd.jupyter.widget-view+json": {
       "model_id": "a0351d9b85ae4309a3c18cd6ef2b81af",
       "version_major": 2,
       "version_minor": 0
      },
      "text/plain": [
       "  0%|          | 0/1000 [00:00<?, ?it/s]"
      ]
     },
     "metadata": {},
     "output_type": "display_data"
    },
    {
     "name": "stdout",
     "output_type": "stream",
     "text": [
      "[Epoch 033/200] Train Loss: 0.426626, Train Acc: 0.8511%, Test Loss: 0.469763, Test Acc: 0.8380%.\n"
     ]
    },
    {
     "data": {
      "application/vnd.jupyter.widget-view+json": {
       "model_id": "22d5dbc014614abda9cce3b9efcbe4a7",
       "version_major": 2,
       "version_minor": 0
      },
      "text/plain": [
       "  0%|          | 0/20256 [00:00<?, ?it/s]"
      ]
     },
     "metadata": {},
     "output_type": "display_data"
    },
    {
     "data": {
      "application/vnd.jupyter.widget-view+json": {
       "model_id": "d6acd6e7a13d476b985118a53a5eadea",
       "version_major": 2,
       "version_minor": 0
      },
      "text/plain": [
       "  0%|          | 0/1000 [00:00<?, ?it/s]"
      ]
     },
     "metadata": {},
     "output_type": "display_data"
    },
    {
     "name": "stdout",
     "output_type": "stream",
     "text": [
      "[Epoch 034/200] Train Loss: 0.426934, Train Acc: 0.8494%, Test Loss: 0.455986, Test Acc: 0.8430%.\n"
     ]
    },
    {
     "data": {
      "application/vnd.jupyter.widget-view+json": {
       "model_id": "3a6263ccd87d4adfacbfb28788771e76",
       "version_major": 2,
       "version_minor": 0
      },
      "text/plain": [
       "  0%|          | 0/20256 [00:00<?, ?it/s]"
      ]
     },
     "metadata": {},
     "output_type": "display_data"
    },
    {
     "data": {
      "application/vnd.jupyter.widget-view+json": {
       "model_id": "9ac917a81e21485fa005aea5eadfaf7b",
       "version_major": 2,
       "version_minor": 0
      },
      "text/plain": [
       "  0%|          | 0/1000 [00:00<?, ?it/s]"
      ]
     },
     "metadata": {},
     "output_type": "display_data"
    },
    {
     "name": "stdout",
     "output_type": "stream",
     "text": [
      "[Epoch 035/200] Train Loss: 0.424022, Train Acc: 0.8494%, Test Loss: 0.435670, Test Acc: 0.8530%.\n"
     ]
    },
    {
     "data": {
      "application/vnd.jupyter.widget-view+json": {
       "model_id": "7c100297e0b74c91bc4d3fd78de2d7ef",
       "version_major": 2,
       "version_minor": 0
      },
      "text/plain": [
       "  0%|          | 0/20256 [00:00<?, ?it/s]"
      ]
     },
     "metadata": {},
     "output_type": "display_data"
    },
    {
     "data": {
      "application/vnd.jupyter.widget-view+json": {
       "model_id": "c3024b2f7f5442729f4d65690087abb3",
       "version_major": 2,
       "version_minor": 0
      },
      "text/plain": [
       "  0%|          | 0/1000 [00:00<?, ?it/s]"
      ]
     },
     "metadata": {},
     "output_type": "display_data"
    },
    {
     "name": "stdout",
     "output_type": "stream",
     "text": [
      "[Epoch 036/200] Train Loss: 0.418023, Train Acc: 0.8545%, Test Loss: 0.434006, Test Acc: 0.8500%.\n"
     ]
    },
    {
     "data": {
      "application/vnd.jupyter.widget-view+json": {
       "model_id": "cb63df3376e04b16bea5ca4ec6d2d817",
       "version_major": 2,
       "version_minor": 0
      },
      "text/plain": [
       "  0%|          | 0/20256 [00:00<?, ?it/s]"
      ]
     },
     "metadata": {},
     "output_type": "display_data"
    },
    {
     "data": {
      "application/vnd.jupyter.widget-view+json": {
       "model_id": "3fe52754a78841bfa32c3b5868457b20",
       "version_major": 2,
       "version_minor": 0
      },
      "text/plain": [
       "  0%|          | 0/1000 [00:00<?, ?it/s]"
      ]
     },
     "metadata": {},
     "output_type": "display_data"
    },
    {
     "name": "stdout",
     "output_type": "stream",
     "text": [
      "[Epoch 037/200] Train Loss: 0.418488, Train Acc: 0.8547%, Test Loss: 0.435167, Test Acc: 0.8630%.\n",
      "Saved 'outputs/Efficientnet-b4_useall_adam_lr0.001/Efficientnet-b4_useall_epoch38.pt'.\n"
     ]
    },
    {
     "data": {
      "application/vnd.jupyter.widget-view+json": {
       "model_id": "942db84ffc444f538ec063c966c77a1a",
       "version_major": 2,
       "version_minor": 0
      },
      "text/plain": [
       "  0%|          | 0/20256 [00:00<?, ?it/s]"
      ]
     },
     "metadata": {},
     "output_type": "display_data"
    },
    {
     "data": {
      "application/vnd.jupyter.widget-view+json": {
       "model_id": "0b56aaa3a80243dc908ade906cfaf3fe",
       "version_major": 2,
       "version_minor": 0
      },
      "text/plain": [
       "  0%|          | 0/1000 [00:00<?, ?it/s]"
      ]
     },
     "metadata": {},
     "output_type": "display_data"
    },
    {
     "name": "stdout",
     "output_type": "stream",
     "text": [
      "[Epoch 038/200] Train Loss: 0.418274, Train Acc: 0.8548%, Test Loss: 0.428044, Test Acc: 0.8690%.\n",
      "Saved 'outputs/Efficientnet-b4_useall_adam_lr0.001/Efficientnet-b4_useall_epoch39.pt'.\n"
     ]
    },
    {
     "data": {
      "application/vnd.jupyter.widget-view+json": {
       "model_id": "defa562f02de4ec296cea27ed8864264",
       "version_major": 2,
       "version_minor": 0
      },
      "text/plain": [
       "  0%|          | 0/20256 [00:00<?, ?it/s]"
      ]
     },
     "metadata": {},
     "output_type": "display_data"
    },
    {
     "data": {
      "application/vnd.jupyter.widget-view+json": {
       "model_id": "f67050919fcd4eb3af2efed3394155fe",
       "version_major": 2,
       "version_minor": 0
      },
      "text/plain": [
       "  0%|          | 0/1000 [00:00<?, ?it/s]"
      ]
     },
     "metadata": {},
     "output_type": "display_data"
    },
    {
     "name": "stdout",
     "output_type": "stream",
     "text": [
      "[Epoch 039/200] Train Loss: 0.412303, Train Acc: 0.8573%, Test Loss: 0.443371, Test Acc: 0.8460%.\n"
     ]
    },
    {
     "data": {
      "application/vnd.jupyter.widget-view+json": {
       "model_id": "9d8cd1a50bca403586b35b3b7cac64f5",
       "version_major": 2,
       "version_minor": 0
      },
      "text/plain": [
       "  0%|          | 0/20256 [00:00<?, ?it/s]"
      ]
     },
     "metadata": {},
     "output_type": "display_data"
    },
    {
     "data": {
      "application/vnd.jupyter.widget-view+json": {
       "model_id": "61f324f76a564ca2819eae652436d73c",
       "version_major": 2,
       "version_minor": 0
      },
      "text/plain": [
       "  0%|          | 0/1000 [00:00<?, ?it/s]"
      ]
     },
     "metadata": {},
     "output_type": "display_data"
    },
    {
     "name": "stdout",
     "output_type": "stream",
     "text": [
      "[Epoch 040/200] Train Loss: 0.410284, Train Acc: 0.8606%, Test Loss: 0.445975, Test Acc: 0.8530%.\n"
     ]
    },
    {
     "data": {
      "application/vnd.jupyter.widget-view+json": {
       "model_id": "edda557052fc4a68bfe7e78ad6a33f3b",
       "version_major": 2,
       "version_minor": 0
      },
      "text/plain": [
       "  0%|          | 0/20256 [00:00<?, ?it/s]"
      ]
     },
     "metadata": {},
     "output_type": "display_data"
    },
    {
     "data": {
      "application/vnd.jupyter.widget-view+json": {
       "model_id": "6ef290f40c7841d5b766c41cec2abda2",
       "version_major": 2,
       "version_minor": 0
      },
      "text/plain": [
       "  0%|          | 0/1000 [00:00<?, ?it/s]"
      ]
     },
     "metadata": {},
     "output_type": "display_data"
    },
    {
     "name": "stdout",
     "output_type": "stream",
     "text": [
      "[Epoch 041/200] Train Loss: 0.409819, Train Acc: 0.8571%, Test Loss: 0.415497, Test Acc: 0.8700%.\n",
      "Saved 'outputs/Efficientnet-b4_useall_adam_lr0.001/Efficientnet-b4_useall_epoch42.pt'.\n"
     ]
    },
    {
     "data": {
      "application/vnd.jupyter.widget-view+json": {
       "model_id": "8e27cb49aa644e4a8ddcf64faa1bc269",
       "version_major": 2,
       "version_minor": 0
      },
      "text/plain": [
       "  0%|          | 0/20256 [00:00<?, ?it/s]"
      ]
     },
     "metadata": {},
     "output_type": "display_data"
    },
    {
     "data": {
      "application/vnd.jupyter.widget-view+json": {
       "model_id": "65bf4169cb7f4c27a768482555037924",
       "version_major": 2,
       "version_minor": 0
      },
      "text/plain": [
       "  0%|          | 0/1000 [00:00<?, ?it/s]"
      ]
     },
     "metadata": {},
     "output_type": "display_data"
    },
    {
     "name": "stdout",
     "output_type": "stream",
     "text": [
      "[Epoch 042/200] Train Loss: 0.409570, Train Acc: 0.8609%, Test Loss: 0.419247, Test Acc: 0.8640%.\n"
     ]
    },
    {
     "data": {
      "application/vnd.jupyter.widget-view+json": {
       "model_id": "5b79cd2370114cb2a0e37cbf912a432c",
       "version_major": 2,
       "version_minor": 0
      },
      "text/plain": [
       "  0%|          | 0/20256 [00:00<?, ?it/s]"
      ]
     },
     "metadata": {},
     "output_type": "display_data"
    },
    {
     "data": {
      "application/vnd.jupyter.widget-view+json": {
       "model_id": "561b1cfe7f94401dab04e65deada8d6d",
       "version_major": 2,
       "version_minor": 0
      },
      "text/plain": [
       "  0%|          | 0/1000 [00:00<?, ?it/s]"
      ]
     },
     "metadata": {},
     "output_type": "display_data"
    },
    {
     "name": "stdout",
     "output_type": "stream",
     "text": [
      "[Epoch 043/200] Train Loss: 0.405963, Train Acc: 0.8605%, Test Loss: 0.431949, Test Acc: 0.8620%.\n"
     ]
    },
    {
     "data": {
      "application/vnd.jupyter.widget-view+json": {
       "model_id": "8d10906f2bd24b79b7391406d3b24f6c",
       "version_major": 2,
       "version_minor": 0
      },
      "text/plain": [
       "  0%|          | 0/20256 [00:00<?, ?it/s]"
      ]
     },
     "metadata": {},
     "output_type": "display_data"
    },
    {
     "data": {
      "application/vnd.jupyter.widget-view+json": {
       "model_id": "7404c27085c9468fae602c426e785862",
       "version_major": 2,
       "version_minor": 0
      },
      "text/plain": [
       "  0%|          | 0/1000 [00:00<?, ?it/s]"
      ]
     },
     "metadata": {},
     "output_type": "display_data"
    },
    {
     "name": "stdout",
     "output_type": "stream",
     "text": [
      "[Epoch 044/200] Train Loss: 0.408423, Train Acc: 0.8574%, Test Loss: 0.427872, Test Acc: 0.8530%.\n"
     ]
    },
    {
     "data": {
      "application/vnd.jupyter.widget-view+json": {
       "model_id": "6fdeefc9c5fe4d149e42306c656114ed",
       "version_major": 2,
       "version_minor": 0
      },
      "text/plain": [
       "  0%|          | 0/20256 [00:00<?, ?it/s]"
      ]
     },
     "metadata": {},
     "output_type": "display_data"
    },
    {
     "data": {
      "application/vnd.jupyter.widget-view+json": {
       "model_id": "2fa0a1b1fbcd4d8f89ccd280a0f8e2ba",
       "version_major": 2,
       "version_minor": 0
      },
      "text/plain": [
       "  0%|          | 0/1000 [00:00<?, ?it/s]"
      ]
     },
     "metadata": {},
     "output_type": "display_data"
    },
    {
     "name": "stdout",
     "output_type": "stream",
     "text": [
      "[Epoch 045/200] Train Loss: 0.407438, Train Acc: 0.8581%, Test Loss: 0.462590, Test Acc: 0.8440%.\n"
     ]
    },
    {
     "data": {
      "application/vnd.jupyter.widget-view+json": {
       "model_id": "9615ad6506ff435e982e88476a09ab62",
       "version_major": 2,
       "version_minor": 0
      },
      "text/plain": [
       "  0%|          | 0/20256 [00:00<?, ?it/s]"
      ]
     },
     "metadata": {},
     "output_type": "display_data"
    },
    {
     "data": {
      "application/vnd.jupyter.widget-view+json": {
       "model_id": "da231a70894b46aaa0097750fe8abab9",
       "version_major": 2,
       "version_minor": 0
      },
      "text/plain": [
       "  0%|          | 0/1000 [00:00<?, ?it/s]"
      ]
     },
     "metadata": {},
     "output_type": "display_data"
    },
    {
     "name": "stdout",
     "output_type": "stream",
     "text": [
      "[Epoch 046/200] Train Loss: 0.400622, Train Acc: 0.8602%, Test Loss: 0.480110, Test Acc: 0.8410%.\n"
     ]
    },
    {
     "data": {
      "application/vnd.jupyter.widget-view+json": {
       "model_id": "e242bf78c9784e208051899d058a4844",
       "version_major": 2,
       "version_minor": 0
      },
      "text/plain": [
       "  0%|          | 0/20256 [00:00<?, ?it/s]"
      ]
     },
     "metadata": {},
     "output_type": "display_data"
    },
    {
     "data": {
      "application/vnd.jupyter.widget-view+json": {
       "model_id": "55df089c3c0c4d0bb0efb2cd40e5750d",
       "version_major": 2,
       "version_minor": 0
      },
      "text/plain": [
       "  0%|          | 0/1000 [00:00<?, ?it/s]"
      ]
     },
     "metadata": {},
     "output_type": "display_data"
    },
    {
     "name": "stdout",
     "output_type": "stream",
     "text": [
      "[Epoch 047/200] Train Loss: 0.405427, Train Acc: 0.8613%, Test Loss: 0.404115, Test Acc: 0.8680%.\n"
     ]
    },
    {
     "data": {
      "application/vnd.jupyter.widget-view+json": {
       "model_id": "3bbf4a8a794d49dfb3f3828369b17cec",
       "version_major": 2,
       "version_minor": 0
      },
      "text/plain": [
       "  0%|          | 0/20256 [00:00<?, ?it/s]"
      ]
     },
     "metadata": {},
     "output_type": "display_data"
    }
   ],
   "source": [
    "train_model(args, train_dataset, train_loader, valid_dataset, valid_loader, net)"
   ]
  },
  {
   "cell_type": "markdown",
   "metadata": {
    "id": "aGmhOtFXf12W"
   },
   "source": [
    "## Confusion Matrix"
   ]
  },
  {
   "cell_type": "code",
   "execution_count": null,
   "metadata": {
    "colab": {
     "base_uri": "https://localhost:8080/"
    },
    "id": "bCyl9ARWhkCB",
    "outputId": "bfdb098f-7af5-4fdd-d309-8bf030c0e89d",
    "tags": []
   },
   "outputs": [],
   "source": [
    "best_model = torch.load(args.out_dir  + \"/ResNet_useDCL_epoch279.pt\")\n",
    "net.load_state_dict(best_model)\n",
    "net = net.to(device)\n",
    "net.eval()"
   ]
  },
  {
   "cell_type": "code",
   "execution_count": null,
   "metadata": {
    "colab": {
     "base_uri": "https://localhost:8080/",
     "height": 432
    },
    "id": "n7UKCsXdZv7Z",
    "outputId": "2b407141-8e7e-43fb-aca8-4249de277762",
    "tags": []
   },
   "outputs": [],
   "source": [
    "from utils import get_all_preds, get_num_correct\n",
    "\n",
    "preds, labels = get_all_preds(net, valid_loader)\n",
    "preds_correct = get_num_correct(preds, labels)\n",
    "print(\"Validation accuracy: %f\"%(preds_correct/n_val*100))"
   ]
  },
  {
   "cell_type": "code",
   "execution_count": null,
   "metadata": {
    "colab": {
     "base_uri": "https://localhost:8080/",
     "height": 614
    },
    "id": "kxhbwekdI60Y",
    "outputId": "0c08925d-6166-4093-c47b-bfcdd32b102b"
   },
   "outputs": [],
   "source": [
    "from utils import plot_confusion_matrix\n",
    "from sklearn.metrics import confusion_matrix\n",
    "\n",
    "labels = labels.to('cpu')\n",
    "preds = preds.to('cpu')\n",
    "cm = confusion_matrix(labels, preds.argmax(dim=1))\n",
    "plt.figure(figsize=(7, 7))\n",
    "plot_confusion_matrix(cm, ['label0', 'label1', 'label2', 'label3', 'label4'], normalize=True)\n",
    "plt.savefig(args.out_dir + '/confusion_matrix.png')"
   ]
  }
 ],
 "metadata": {
  "accelerator": "GPU",
  "colab": {
   "collapsed_sections": [],
   "name": "CS376_Final_Project_Dataset_Selection",
   "provenance": [],
   "toc_visible": true
  },
  "kernelspec": {
   "display_name": "Python 3",
   "language": "python",
   "name": "python3"
  },
  "language_info": {
   "codemirror_mode": {
    "name": "ipython",
    "version": 3
   },
   "file_extension": ".py",
   "mimetype": "text/x-python",
   "name": "python",
   "nbconvert_exporter": "python",
   "pygments_lexer": "ipython3",
   "version": "3.8.8"
  }
 },
 "nbformat": 4,
 "nbformat_minor": 4
}
